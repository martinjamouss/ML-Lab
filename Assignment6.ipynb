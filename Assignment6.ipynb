{
  "cells": [
    {
      "cell_type": "markdown",
      "metadata": {
        "id": "view-in-github",
        "colab_type": "text"
      },
      "source": [
        "<a href=\"https://colab.research.google.com/github/martinjamouss/ML-Lab/blob/main/Assignment6.ipynb\" target=\"_parent\"><img src=\"https://colab.research.google.com/assets/colab-badge.svg\" alt=\"Open In Colab\"/></a>"
      ]
    },
    {
      "cell_type": "markdown",
      "metadata": {
        "id": "7ywSRtNI4s5h"
      },
      "source": [
        "# 1.) Preprocess your data into scaled input variables and an output variable\n"
      ]
    },
    {
      "cell_type": "code",
      "execution_count": null,
      "metadata": {
        "id": "nsG1QV154GYZ"
      },
      "outputs": [],
      "source": [
        "import pandas as pd\n",
        "from google.colab import drive\n",
        "import matplotlib.pyplot as plt\n",
        "import numpy as np\n",
        "import datetime\n",
        "from sklearn.model_selection import train_test_split, GridSearchCV\n",
        "from sklearn.preprocessing import StandardScaler\n",
        "from sklearn.neural_network import MLPRegressor\n",
        "from sklearn.metrics import mean_squared_error, r2_score\n",
        "import warnings\n",
        "warnings.filterwarnings('ignore')"
      ]
    },
    {
      "cell_type": "code",
      "execution_count": null,
      "metadata": {
        "colab": {
          "base_uri": "https://localhost:8080/"
        },
        "id": "Iku0T8Ou4Lcu",
        "outputId": "a97cadb0-7c51-4dfe-d6e4-771b8328d343"
      },
      "outputs": [
        {
          "output_type": "stream",
          "name": "stdout",
          "text": [
            "Mounted at /content/gdrive/\n"
          ]
        }
      ],
      "source": [
        "drive.mount('/content/gdrive/', force_remount = True)"
      ]
    },
    {
      "cell_type": "code",
      "execution_count": null,
      "metadata": {
        "id": "Q7XmCWs_rULl"
      },
      "outputs": [],
      "source": [
        "df = pd.read_csv(\"/content/gdrive/MyDrive/CLV.csv\").drop('Unnamed: 0', axis=1)\n"
      ]
    },
    {
      "cell_type": "code",
      "execution_count": null,
      "metadata": {
        "colab": {
          "base_uri": "https://localhost:8080/",
          "height": 322
        },
        "id": "hN53osSaWoJd",
        "outputId": "2fc2bca1-044a-4990-82b6-8e644ce02de0"
      },
      "outputs": [
        {
          "output_type": "execute_result",
          "data": {
            "text/plain": [
              "   Customer Lifetime Value  Income  Number of Policies  Total Claim Amount  \\\n",
              "0              2763.519279   56274                   1          384.811147   \n",
              "1              6979.535903       0                   8         1131.464935   \n",
              "2             12887.431650   48767                   2          566.472247   \n",
              "3              7645.861827       0                   7          529.881344   \n",
              "4              2813.692575   43836                   1          138.130879   \n",
              "\n",
              "   Months Since Last Claim  Vehicle Size_Large  Vehicle Size_Medsize  \\\n",
              "0                       32                   0                     1   \n",
              "1                       13                   0                     1   \n",
              "2                       18                   0                     1   \n",
              "3                       18                   0                     1   \n",
              "4                       12                   0                     1   \n",
              "\n",
              "   Gender_M  EmploymentStatus_Employed  EmploymentStatus_Medical Leave  \\\n",
              "0         0                          1                               0   \n",
              "1         0                          0                               0   \n",
              "2         0                          1                               0   \n",
              "3         1                          0                               0   \n",
              "4         1                          1                               0   \n",
              "\n",
              "   EmploymentStatus_Retired  EmploymentStatus_Unemployed  \\\n",
              "0                         0                            0   \n",
              "1                         0                            1   \n",
              "2                         0                            0   \n",
              "3                         0                            1   \n",
              "4                         0                            0   \n",
              "\n",
              "   Policy Type_Corporate Auto  Policy Type_Personal Auto  \\\n",
              "0                           1                          0   \n",
              "1                           0                          1   \n",
              "2                           0                          1   \n",
              "3                           1                          0   \n",
              "4                           0                          1   \n",
              "\n",
              "   Marital Status_Divorced  Marital Status_Married  Marital Status_Single  \n",
              "0                        0                       1                      0  \n",
              "1                        0                       0                      1  \n",
              "2                        0                       1                      0  \n",
              "3                        0                       1                      0  \n",
              "4                        0                       0                      1  "
            ],
            "text/html": [
              "\n",
              "  <div id=\"df-c9fd8c49-7f29-4dfb-8283-b3eef7fc3fbb\">\n",
              "    <div class=\"colab-df-container\">\n",
              "      <div>\n",
              "<style scoped>\n",
              "    .dataframe tbody tr th:only-of-type {\n",
              "        vertical-align: middle;\n",
              "    }\n",
              "\n",
              "    .dataframe tbody tr th {\n",
              "        vertical-align: top;\n",
              "    }\n",
              "\n",
              "    .dataframe thead th {\n",
              "        text-align: right;\n",
              "    }\n",
              "</style>\n",
              "<table border=\"1\" class=\"dataframe\">\n",
              "  <thead>\n",
              "    <tr style=\"text-align: right;\">\n",
              "      <th></th>\n",
              "      <th>Customer Lifetime Value</th>\n",
              "      <th>Income</th>\n",
              "      <th>Number of Policies</th>\n",
              "      <th>Total Claim Amount</th>\n",
              "      <th>Months Since Last Claim</th>\n",
              "      <th>Vehicle Size_Large</th>\n",
              "      <th>Vehicle Size_Medsize</th>\n",
              "      <th>Gender_M</th>\n",
              "      <th>EmploymentStatus_Employed</th>\n",
              "      <th>EmploymentStatus_Medical Leave</th>\n",
              "      <th>EmploymentStatus_Retired</th>\n",
              "      <th>EmploymentStatus_Unemployed</th>\n",
              "      <th>Policy Type_Corporate Auto</th>\n",
              "      <th>Policy Type_Personal Auto</th>\n",
              "      <th>Marital Status_Divorced</th>\n",
              "      <th>Marital Status_Married</th>\n",
              "      <th>Marital Status_Single</th>\n",
              "    </tr>\n",
              "  </thead>\n",
              "  <tbody>\n",
              "    <tr>\n",
              "      <th>0</th>\n",
              "      <td>2763.519279</td>\n",
              "      <td>56274</td>\n",
              "      <td>1</td>\n",
              "      <td>384.811147</td>\n",
              "      <td>32</td>\n",
              "      <td>0</td>\n",
              "      <td>1</td>\n",
              "      <td>0</td>\n",
              "      <td>1</td>\n",
              "      <td>0</td>\n",
              "      <td>0</td>\n",
              "      <td>0</td>\n",
              "      <td>1</td>\n",
              "      <td>0</td>\n",
              "      <td>0</td>\n",
              "      <td>1</td>\n",
              "      <td>0</td>\n",
              "    </tr>\n",
              "    <tr>\n",
              "      <th>1</th>\n",
              "      <td>6979.535903</td>\n",
              "      <td>0</td>\n",
              "      <td>8</td>\n",
              "      <td>1131.464935</td>\n",
              "      <td>13</td>\n",
              "      <td>0</td>\n",
              "      <td>1</td>\n",
              "      <td>0</td>\n",
              "      <td>0</td>\n",
              "      <td>0</td>\n",
              "      <td>0</td>\n",
              "      <td>1</td>\n",
              "      <td>0</td>\n",
              "      <td>1</td>\n",
              "      <td>0</td>\n",
              "      <td>0</td>\n",
              "      <td>1</td>\n",
              "    </tr>\n",
              "    <tr>\n",
              "      <th>2</th>\n",
              "      <td>12887.431650</td>\n",
              "      <td>48767</td>\n",
              "      <td>2</td>\n",
              "      <td>566.472247</td>\n",
              "      <td>18</td>\n",
              "      <td>0</td>\n",
              "      <td>1</td>\n",
              "      <td>0</td>\n",
              "      <td>1</td>\n",
              "      <td>0</td>\n",
              "      <td>0</td>\n",
              "      <td>0</td>\n",
              "      <td>0</td>\n",
              "      <td>1</td>\n",
              "      <td>0</td>\n",
              "      <td>1</td>\n",
              "      <td>0</td>\n",
              "    </tr>\n",
              "    <tr>\n",
              "      <th>3</th>\n",
              "      <td>7645.861827</td>\n",
              "      <td>0</td>\n",
              "      <td>7</td>\n",
              "      <td>529.881344</td>\n",
              "      <td>18</td>\n",
              "      <td>0</td>\n",
              "      <td>1</td>\n",
              "      <td>1</td>\n",
              "      <td>0</td>\n",
              "      <td>0</td>\n",
              "      <td>0</td>\n",
              "      <td>1</td>\n",
              "      <td>1</td>\n",
              "      <td>0</td>\n",
              "      <td>0</td>\n",
              "      <td>1</td>\n",
              "      <td>0</td>\n",
              "    </tr>\n",
              "    <tr>\n",
              "      <th>4</th>\n",
              "      <td>2813.692575</td>\n",
              "      <td>43836</td>\n",
              "      <td>1</td>\n",
              "      <td>138.130879</td>\n",
              "      <td>12</td>\n",
              "      <td>0</td>\n",
              "      <td>1</td>\n",
              "      <td>1</td>\n",
              "      <td>1</td>\n",
              "      <td>0</td>\n",
              "      <td>0</td>\n",
              "      <td>0</td>\n",
              "      <td>0</td>\n",
              "      <td>1</td>\n",
              "      <td>0</td>\n",
              "      <td>0</td>\n",
              "      <td>1</td>\n",
              "    </tr>\n",
              "  </tbody>\n",
              "</table>\n",
              "</div>\n",
              "      <button class=\"colab-df-convert\" onclick=\"convertToInteractive('df-c9fd8c49-7f29-4dfb-8283-b3eef7fc3fbb')\"\n",
              "              title=\"Convert this dataframe to an interactive table.\"\n",
              "              style=\"display:none;\">\n",
              "        \n",
              "  <svg xmlns=\"http://www.w3.org/2000/svg\" height=\"24px\"viewBox=\"0 0 24 24\"\n",
              "       width=\"24px\">\n",
              "    <path d=\"M0 0h24v24H0V0z\" fill=\"none\"/>\n",
              "    <path d=\"M18.56 5.44l.94 2.06.94-2.06 2.06-.94-2.06-.94-.94-2.06-.94 2.06-2.06.94zm-11 1L8.5 8.5l.94-2.06 2.06-.94-2.06-.94L8.5 2.5l-.94 2.06-2.06.94zm10 10l.94 2.06.94-2.06 2.06-.94-2.06-.94-.94-2.06-.94 2.06-2.06.94z\"/><path d=\"M17.41 7.96l-1.37-1.37c-.4-.4-.92-.59-1.43-.59-.52 0-1.04.2-1.43.59L10.3 9.45l-7.72 7.72c-.78.78-.78 2.05 0 2.83L4 21.41c.39.39.9.59 1.41.59.51 0 1.02-.2 1.41-.59l7.78-7.78 2.81-2.81c.8-.78.8-2.07 0-2.86zM5.41 20L4 18.59l7.72-7.72 1.47 1.35L5.41 20z\"/>\n",
              "  </svg>\n",
              "      </button>\n",
              "      \n",
              "  <style>\n",
              "    .colab-df-container {\n",
              "      display:flex;\n",
              "      flex-wrap:wrap;\n",
              "      gap: 12px;\n",
              "    }\n",
              "\n",
              "    .colab-df-convert {\n",
              "      background-color: #E8F0FE;\n",
              "      border: none;\n",
              "      border-radius: 50%;\n",
              "      cursor: pointer;\n",
              "      display: none;\n",
              "      fill: #1967D2;\n",
              "      height: 32px;\n",
              "      padding: 0 0 0 0;\n",
              "      width: 32px;\n",
              "    }\n",
              "\n",
              "    .colab-df-convert:hover {\n",
              "      background-color: #E2EBFA;\n",
              "      box-shadow: 0px 1px 2px rgba(60, 64, 67, 0.3), 0px 1px 3px 1px rgba(60, 64, 67, 0.15);\n",
              "      fill: #174EA6;\n",
              "    }\n",
              "\n",
              "    [theme=dark] .colab-df-convert {\n",
              "      background-color: #3B4455;\n",
              "      fill: #D2E3FC;\n",
              "    }\n",
              "\n",
              "    [theme=dark] .colab-df-convert:hover {\n",
              "      background-color: #434B5C;\n",
              "      box-shadow: 0px 1px 3px 1px rgba(0, 0, 0, 0.15);\n",
              "      filter: drop-shadow(0px 1px 2px rgba(0, 0, 0, 0.3));\n",
              "      fill: #FFFFFF;\n",
              "    }\n",
              "  </style>\n",
              "\n",
              "      <script>\n",
              "        const buttonEl =\n",
              "          document.querySelector('#df-c9fd8c49-7f29-4dfb-8283-b3eef7fc3fbb button.colab-df-convert');\n",
              "        buttonEl.style.display =\n",
              "          google.colab.kernel.accessAllowed ? 'block' : 'none';\n",
              "\n",
              "        async function convertToInteractive(key) {\n",
              "          const element = document.querySelector('#df-c9fd8c49-7f29-4dfb-8283-b3eef7fc3fbb');\n",
              "          const dataTable =\n",
              "            await google.colab.kernel.invokeFunction('convertToInteractive',\n",
              "                                                     [key], {});\n",
              "          if (!dataTable) return;\n",
              "\n",
              "          const docLinkHtml = 'Like what you see? Visit the ' +\n",
              "            '<a target=\"_blank\" href=https://colab.research.google.com/notebooks/data_table.ipynb>data table notebook</a>'\n",
              "            + ' to learn more about interactive tables.';\n",
              "          element.innerHTML = '';\n",
              "          dataTable['output_type'] = 'display_data';\n",
              "          await google.colab.output.renderOutput(dataTable, element);\n",
              "          const docLink = document.createElement('div');\n",
              "          docLink.innerHTML = docLinkHtml;\n",
              "          element.appendChild(docLink);\n",
              "        }\n",
              "      </script>\n",
              "    </div>\n",
              "  </div>\n",
              "  "
            ]
          },
          "metadata": {},
          "execution_count": 7
        }
      ],
      "source": [
        "df.head()"
      ]
    },
    {
      "cell_type": "code",
      "execution_count": null,
      "metadata": {
        "colab": {
          "base_uri": "https://localhost:8080/"
        },
        "id": "uCTBr9OjWIEq",
        "outputId": "33bf1151-9109-45f2-997b-121cfec93aaa"
      },
      "outputs": [
        {
          "output_type": "execute_result",
          "data": {
            "text/plain": [
              "Index(['Customer Lifetime Value', 'Income', 'Number of Policies',\n",
              "       'Total Claim Amount', 'Months Since Last Claim', 'Vehicle Size_Large',\n",
              "       'Vehicle Size_Medsize', 'Gender_M', 'EmploymentStatus_Employed',\n",
              "       'EmploymentStatus_Medical Leave', 'EmploymentStatus_Retired',\n",
              "       'EmploymentStatus_Unemployed', 'Policy Type_Corporate Auto',\n",
              "       'Policy Type_Personal Auto', 'Marital Status_Divorced',\n",
              "       'Marital Status_Married', 'Marital Status_Single'],\n",
              "      dtype='object')"
            ]
          },
          "metadata": {},
          "execution_count": 11
        }
      ],
      "source": [
        "\n",
        "df.columns"
      ]
    },
    {
      "cell_type": "code",
      "execution_count": null,
      "metadata": {
        "id": "9hfSckvYW4NN"
      },
      "outputs": [],
      "source": [
        "X = df[['Income', 'Total Claim Amount', 'Months Since Last Claim',\n",
        "       'Vehicle Size_Large','Gender_M','EmploymentStatus_Employed',\n",
        "       'EmploymentStatus_Medical Leave', 'EmploymentStatus_Retired',\n",
        "       'Policy Type_Corporate Auto', 'Marital Status_Divorced']]\n",
        "y = df['Customer Lifetime Value']"
      ]
    },
    {
      "cell_type": "code",
      "execution_count": null,
      "metadata": {
        "id": "5X3GlNZqyAfL"
      },
      "outputs": [],
      "source": [
        "X_train, X_test, y_train, y_test = train_test_split(X, y, test_size = .3)"
      ]
    },
    {
      "cell_type": "code",
      "execution_count": null,
      "metadata": {
        "id": "BaX5ur0GyAh6"
      },
      "outputs": [],
      "source": [
        "scaler = StandardScaler()\n",
        "X_train = scaler.fit_transform(X_train)\n",
        "X_test = scaler.transform(X_test)"
      ]
    },
    {
      "cell_type": "markdown",
      "metadata": {
        "id": "OacsID8kTRvk"
      },
      "source": [
        "# 2.) Run a GridSearch CV on at least 10 possible combinations of hyper parameters "
      ]
    },
    {
      "cell_type": "code",
      "execution_count": null,
      "metadata": {
        "id": "8WKQg4bxTq1-"
      },
      "outputs": [],
      "source": [
        "mlp = MLPRegressor()\n",
        "parameters = {'hidden_layer_sizes': [(10,), (10, 30, 50, 70), (10, 15, 20, 25, 30)], \n",
        "              'activation': ['relu', 'tanh'],  \n",
        "              'alpha': [0.01, 0.1]}"
      ]
    },
    {
      "cell_type": "code",
      "execution_count": null,
      "metadata": {
        "colab": {
          "base_uri": "https://localhost:8080/"
        },
        "id": "SUJY3GilFErS",
        "outputId": "57c3e8b6-c603-452d-f727-b948d0fba788"
      },
      "outputs": [
        {
          "output_type": "execute_result",
          "data": {
            "text/plain": [
              "GridSearchCV(cv=5, estimator=MLPRegressor(),\n",
              "             param_grid={'activation': ['relu', 'tanh'], 'alpha': [0.01, 0.1],\n",
              "                         'hidden_layer_sizes': [(10, 30, 50, 70),\n",
              "                                                (10, 15, 20, 25, 30)]})"
            ]
          },
          "metadata": {},
          "execution_count": 19
        }
      ],
      "source": [
        "# Create an instance of the GridSearchCV class\n",
        "grid = GridSearchCV(mlp, parameters, cv=5)\n",
        "\n",
        "# Train the model using grid search\n",
        "grid.fit(X_train, y_train)"
      ]
    },
    {
      "cell_type": "code",
      "execution_count": null,
      "metadata": {
        "colab": {
          "base_uri": "https://localhost:8080/"
        },
        "id": "C2WyhIh6Fh3j",
        "outputId": "80c226fd-654d-4485-f28e-e295fd4e1437"
      },
      "outputs": [
        {
          "output_type": "stream",
          "name": "stdout",
          "text": [
            "Best Parameters: {'activation': 'relu', 'alpha': 0.01, 'hidden_layer_sizes': (10, 15, 20, 25, 30)}\n",
            "Best Score: 0.07695078217430526\n"
          ]
        }
      ],
      "source": [
        "print('Best Parameters:', grid.best_params_)\n",
        "print('Best Score:', grid.best_score_)\n"
      ]
    },
    {
      "cell_type": "markdown",
      "metadata": {
        "id": "DKNdxiyOTsOE"
      },
      "source": [
        "# 3.) Train a model with the optimal solution from GridSearch"
      ]
    },
    {
      "cell_type": "code",
      "execution_count": null,
      "metadata": {
        "colab": {
          "base_uri": "https://localhost:8080/"
        },
        "id": "sfbnPTe5Tq_9",
        "outputId": "4b2a0ae4-8429-4087-d782-898c0b9264c4"
      },
      "outputs": [
        {
          "output_type": "execute_result",
          "data": {
            "text/plain": [
              "MLPRegressor(alpha=0.1, hidden_layer_sizes=(10, 15, 20, 25, 30), max_iter=1000)"
            ]
          },
          "metadata": {},
          "execution_count": 22
        }
      ],
      "source": [
        "regressor = MLPRegressor(hidden_layer_sizes=(10, 15, 20, 25, 30), activation='relu', solver='adam', alpha=0.1, max_iter=1000)\n",
        "regressor.fit(X_train, y_train)"
      ]
    },
    {
      "cell_type": "markdown",
      "metadata": {
        "id": "qTPkbSDwT0nO"
      },
      "source": [
        "# 4.) What are the in-sample and out of sample MSEs"
      ]
    },
    {
      "cell_type": "code",
      "execution_count": null,
      "metadata": {
        "id": "2KuP_O-uJFg0"
      },
      "outputs": [],
      "source": [
        "y_pred_in = regressor.predict(X_train)\n",
        "y_pred = regressor.predict(X_test)"
      ]
    },
    {
      "cell_type": "code",
      "execution_count": null,
      "metadata": {
        "id": "RjTa3ShN_edU"
      },
      "outputs": [],
      "source": [
        "out_mse = mean_squared_error(y_test, y_pred)\n",
        "out_r2 = r2_score(y_test, y_pred)"
      ]
    },
    {
      "cell_type": "code",
      "execution_count": null,
      "metadata": {
        "colab": {
          "base_uri": "https://localhost:8080/"
        },
        "id": "Guy4MjhOWmqY",
        "outputId": "b029a663-8497-45db-9412-4047463da981"
      },
      "outputs": [
        {
          "output_type": "stream",
          "name": "stdout",
          "text": [
            "45493799.10362097\n",
            "0.06299008085175761\n"
          ]
        }
      ],
      "source": [
        "print(out_mse)\n",
        "print(out_r2)"
      ]
    },
    {
      "cell_type": "markdown",
      "metadata": {
        "id": "YVQ1PvBK_ev0"
      },
      "source": [
        "# 5.) Build a Keras with the architecture defined by GridSearchCV"
      ]
    },
    {
      "cell_type": "code",
      "execution_count": null,
      "metadata": {
        "id": "dzqvY-1Vfd3v"
      },
      "outputs": [],
      "source": [
        "import keras.models\n",
        "from keras.optimizers import Adam\n",
        "from keras.models import Sequential\n",
        "from keras.layers import Dense"
      ]
    },
    {
      "cell_type": "code",
      "execution_count": null,
      "metadata": {
        "id": "REnA8g8VOexH"
      },
      "outputs": [],
      "source": [
        "model = Sequential()\n",
        "model.add(Dense(10, input_dim=X_train.shape[1], activation = 'relu'))\n",
        "model.add(Dense(15, activation = 'relu'))\n",
        "model.add(Dense(20, activation = 'relu'))\n",
        "model.add(Dense(25, activation = 'relu'))\n",
        "model.add(Dense(30, activation = 'linear'))"
      ]
    },
    {
      "cell_type": "code",
      "execution_count": null,
      "metadata": {
        "colab": {
          "base_uri": "https://localhost:8080/"
        },
        "id": "cIru4hD8Oezl",
        "outputId": "55c98718-79d0-45cf-fe4b-e103251844f2"
      },
      "outputs": [
        {
          "output_type": "stream",
          "name": "stdout",
          "text": [
            "Epoch 1/100\n",
            "200/200 [==============================] - 1s 2ms/step - loss: 59819544.0000\n",
            "Epoch 2/100\n",
            "200/200 [==============================] - 0s 2ms/step - loss: 43710768.0000\n",
            "Epoch 3/100\n",
            "200/200 [==============================] - 0s 2ms/step - loss: 43420648.0000\n",
            "Epoch 4/100\n",
            "200/200 [==============================] - 0s 2ms/step - loss: 43222572.0000\n",
            "Epoch 5/100\n",
            "200/200 [==============================] - 0s 2ms/step - loss: 43174128.0000\n",
            "Epoch 6/100\n",
            "200/200 [==============================] - 0s 2ms/step - loss: 43012576.0000\n",
            "Epoch 7/100\n",
            "200/200 [==============================] - 1s 3ms/step - loss: 43107680.0000\n",
            "Epoch 8/100\n",
            "200/200 [==============================] - 1s 3ms/step - loss: 43151652.0000\n",
            "Epoch 9/100\n",
            "200/200 [==============================] - 1s 3ms/step - loss: 43015056.0000\n",
            "Epoch 10/100\n",
            "200/200 [==============================] - 1s 3ms/step - loss: 43252684.0000\n",
            "Epoch 11/100\n",
            "200/200 [==============================] - 1s 3ms/step - loss: 43193220.0000\n",
            "Epoch 12/100\n",
            "200/200 [==============================] - 0s 2ms/step - loss: 42909528.0000\n",
            "Epoch 13/100\n",
            "200/200 [==============================] - 0s 2ms/step - loss: 43392192.0000\n",
            "Epoch 14/100\n",
            "200/200 [==============================] - 0s 2ms/step - loss: 43330000.0000\n",
            "Epoch 15/100\n",
            "200/200 [==============================] - 0s 2ms/step - loss: 42833072.0000\n",
            "Epoch 16/100\n",
            "200/200 [==============================] - 0s 2ms/step - loss: 42941976.0000\n",
            "Epoch 17/100\n",
            "200/200 [==============================] - 0s 2ms/step - loss: 42952932.0000\n",
            "Epoch 18/100\n",
            "200/200 [==============================] - 0s 2ms/step - loss: 42877340.0000\n",
            "Epoch 19/100\n",
            "200/200 [==============================] - 0s 2ms/step - loss: 42843288.0000\n",
            "Epoch 20/100\n",
            "200/200 [==============================] - 0s 2ms/step - loss: 42850128.0000\n",
            "Epoch 21/100\n",
            "200/200 [==============================] - 0s 2ms/step - loss: 42913252.0000\n",
            "Epoch 22/100\n",
            "200/200 [==============================] - 0s 2ms/step - loss: 43188772.0000\n",
            "Epoch 23/100\n",
            "200/200 [==============================] - 0s 2ms/step - loss: 42938536.0000\n",
            "Epoch 24/100\n",
            "200/200 [==============================] - 0s 2ms/step - loss: 42680080.0000\n",
            "Epoch 25/100\n",
            "200/200 [==============================] - 0s 2ms/step - loss: 42607312.0000\n",
            "Epoch 26/100\n",
            "200/200 [==============================] - 0s 2ms/step - loss: 42921192.0000\n",
            "Epoch 27/100\n",
            "200/200 [==============================] - 0s 2ms/step - loss: 42672420.0000\n",
            "Epoch 28/100\n",
            "200/200 [==============================] - 0s 2ms/step - loss: 42855132.0000\n",
            "Epoch 29/100\n",
            "200/200 [==============================] - 0s 2ms/step - loss: 42773372.0000\n",
            "Epoch 30/100\n",
            "200/200 [==============================] - 0s 2ms/step - loss: 42829784.0000\n",
            "Epoch 31/100\n",
            "200/200 [==============================] - 0s 2ms/step - loss: 42760460.0000\n",
            "Epoch 32/100\n",
            "200/200 [==============================] - 0s 2ms/step - loss: 42859284.0000\n",
            "Epoch 33/100\n",
            "200/200 [==============================] - 0s 2ms/step - loss: 42838848.0000\n",
            "Epoch 34/100\n",
            "200/200 [==============================] - 0s 2ms/step - loss: 42857524.0000\n",
            "Epoch 35/100\n",
            "200/200 [==============================] - 0s 2ms/step - loss: 42759524.0000\n",
            "Epoch 36/100\n",
            "200/200 [==============================] - 0s 2ms/step - loss: 42656812.0000\n",
            "Epoch 37/100\n",
            "200/200 [==============================] - 0s 2ms/step - loss: 42871108.0000\n",
            "Epoch 38/100\n",
            "200/200 [==============================] - 0s 2ms/step - loss: 42829780.0000\n",
            "Epoch 39/100\n",
            "200/200 [==============================] - 0s 2ms/step - loss: 42674044.0000\n",
            "Epoch 40/100\n",
            "200/200 [==============================] - 1s 3ms/step - loss: 42716516.0000\n",
            "Epoch 41/100\n",
            "200/200 [==============================] - 1s 3ms/step - loss: 42636964.0000\n",
            "Epoch 42/100\n",
            "200/200 [==============================] - 1s 3ms/step - loss: 42763148.0000\n",
            "Epoch 43/100\n",
            "200/200 [==============================] - 1s 3ms/step - loss: 42722504.0000\n",
            "Epoch 44/100\n",
            "200/200 [==============================] - 1s 3ms/step - loss: 42760412.0000\n",
            "Epoch 45/100\n",
            "200/200 [==============================] - 0s 2ms/step - loss: 42658712.0000\n",
            "Epoch 46/100\n",
            "200/200 [==============================] - 0s 2ms/step - loss: 42723428.0000\n",
            "Epoch 47/100\n",
            "200/200 [==============================] - 0s 2ms/step - loss: 42743420.0000\n",
            "Epoch 48/100\n",
            "200/200 [==============================] - 0s 2ms/step - loss: 42658864.0000\n",
            "Epoch 49/100\n",
            "200/200 [==============================] - 0s 2ms/step - loss: 42790760.0000\n",
            "Epoch 50/100\n",
            "200/200 [==============================] - 0s 2ms/step - loss: 42541008.0000\n",
            "Epoch 51/100\n",
            "200/200 [==============================] - 0s 2ms/step - loss: 42652252.0000\n",
            "Epoch 52/100\n",
            "200/200 [==============================] - 0s 2ms/step - loss: 42778932.0000\n",
            "Epoch 53/100\n",
            "200/200 [==============================] - 0s 2ms/step - loss: 42632752.0000\n",
            "Epoch 54/100\n",
            "200/200 [==============================] - 0s 2ms/step - loss: 42757520.0000\n",
            "Epoch 55/100\n",
            "200/200 [==============================] - 1s 4ms/step - loss: 42665032.0000\n",
            "Epoch 56/100\n",
            "200/200 [==============================] - 0s 2ms/step - loss: 42536684.0000\n",
            "Epoch 57/100\n",
            "200/200 [==============================] - 0s 2ms/step - loss: 42623376.0000\n",
            "Epoch 58/100\n",
            "200/200 [==============================] - 0s 2ms/step - loss: 42733804.0000\n",
            "Epoch 59/100\n",
            "200/200 [==============================] - 0s 2ms/step - loss: 42577496.0000\n",
            "Epoch 60/100\n",
            "200/200 [==============================] - 0s 2ms/step - loss: 42551212.0000\n",
            "Epoch 61/100\n",
            "200/200 [==============================] - 0s 2ms/step - loss: 42554528.0000\n",
            "Epoch 62/100\n",
            "200/200 [==============================] - 0s 2ms/step - loss: 42598212.0000\n",
            "Epoch 63/100\n",
            "200/200 [==============================] - 0s 2ms/step - loss: 42488436.0000\n",
            "Epoch 64/100\n",
            "200/200 [==============================] - 0s 2ms/step - loss: 42567152.0000\n",
            "Epoch 65/100\n",
            "200/200 [==============================] - 0s 2ms/step - loss: 42619844.0000\n",
            "Epoch 66/100\n",
            "200/200 [==============================] - 0s 2ms/step - loss: 42674104.0000\n",
            "Epoch 67/100\n",
            "200/200 [==============================] - 0s 2ms/step - loss: 42526564.0000\n",
            "Epoch 68/100\n",
            "200/200 [==============================] - 0s 2ms/step - loss: 42478728.0000\n",
            "Epoch 69/100\n",
            "200/200 [==============================] - 0s 2ms/step - loss: 42781476.0000\n",
            "Epoch 70/100\n",
            "200/200 [==============================] - 1s 3ms/step - loss: 42444920.0000\n",
            "Epoch 71/100\n",
            "200/200 [==============================] - 1s 3ms/step - loss: 42580880.0000\n",
            "Epoch 72/100\n",
            "200/200 [==============================] - 1s 3ms/step - loss: 42574428.0000\n",
            "Epoch 73/100\n",
            "200/200 [==============================] - 1s 3ms/step - loss: 42539220.0000\n",
            "Epoch 74/100\n",
            "200/200 [==============================] - 0s 2ms/step - loss: 42487024.0000\n",
            "Epoch 75/100\n",
            "200/200 [==============================] - 0s 2ms/step - loss: 42516348.0000\n",
            "Epoch 76/100\n",
            "200/200 [==============================] - 0s 2ms/step - loss: 42562464.0000\n",
            "Epoch 77/100\n",
            "200/200 [==============================] - 0s 2ms/step - loss: 42537860.0000\n",
            "Epoch 78/100\n",
            "200/200 [==============================] - 0s 2ms/step - loss: 42417368.0000\n",
            "Epoch 79/100\n",
            "200/200 [==============================] - 0s 2ms/step - loss: 42447544.0000\n",
            "Epoch 80/100\n",
            "200/200 [==============================] - 0s 2ms/step - loss: 42360924.0000\n",
            "Epoch 81/100\n",
            "200/200 [==============================] - 0s 2ms/step - loss: 42430484.0000\n",
            "Epoch 82/100\n",
            "200/200 [==============================] - 0s 2ms/step - loss: 42604452.0000\n",
            "Epoch 83/100\n",
            "200/200 [==============================] - 0s 2ms/step - loss: 42441644.0000\n",
            "Epoch 84/100\n",
            "200/200 [==============================] - 0s 2ms/step - loss: 42591984.0000\n",
            "Epoch 85/100\n",
            "200/200 [==============================] - 0s 2ms/step - loss: 42499456.0000\n",
            "Epoch 86/100\n",
            "200/200 [==============================] - 0s 2ms/step - loss: 42507132.0000\n",
            "Epoch 87/100\n",
            "200/200 [==============================] - 0s 2ms/step - loss: 42309824.0000\n",
            "Epoch 88/100\n",
            "200/200 [==============================] - 0s 2ms/step - loss: 42514204.0000\n",
            "Epoch 89/100\n",
            "200/200 [==============================] - 0s 2ms/step - loss: 42322088.0000\n",
            "Epoch 90/100\n",
            "200/200 [==============================] - 0s 2ms/step - loss: 42453464.0000\n",
            "Epoch 91/100\n",
            "200/200 [==============================] - 0s 2ms/step - loss: 42364996.0000\n",
            "Epoch 92/100\n",
            "200/200 [==============================] - 0s 2ms/step - loss: 42205664.0000\n",
            "Epoch 93/100\n",
            "200/200 [==============================] - 0s 2ms/step - loss: 42380240.0000\n",
            "Epoch 94/100\n",
            "200/200 [==============================] - 0s 2ms/step - loss: 42136640.0000\n",
            "Epoch 95/100\n",
            "200/200 [==============================] - 0s 2ms/step - loss: 42308212.0000\n",
            "Epoch 96/100\n",
            "200/200 [==============================] - 0s 2ms/step - loss: 42161320.0000\n",
            "Epoch 97/100\n",
            "200/200 [==============================] - 0s 2ms/step - loss: 42390720.0000\n",
            "Epoch 98/100\n",
            "200/200 [==============================] - 0s 2ms/step - loss: 42110556.0000\n",
            "Epoch 99/100\n",
            "200/200 [==============================] - 0s 2ms/step - loss: 42372868.0000\n",
            "Epoch 100/100\n",
            "200/200 [==============================] - 1s 3ms/step - loss: 42195556.0000\n"
          ]
        },
        {
          "output_type": "execute_result",
          "data": {
            "text/plain": [
              "<keras.callbacks.History at 0x7f0b241a3430>"
            ]
          },
          "metadata": {},
          "execution_count": 30
        }
      ],
      "source": [
        "model.compile(loss='mse', optimizer = Adam(lr=0.01))\n",
        "model.fit(X_train, y_train, batch_size=32, epochs=100)"
      ]
    },
    {
      "cell_type": "markdown",
      "metadata": {
        "id": "NirfWMLxOe-P"
      },
      "source": [
        "# 6.) Make two visualizations of your NN using “plot_model” and “ann_viz”"
      ]
    },
    {
      "cell_type": "code",
      "execution_count": null,
      "metadata": {
        "colab": {
          "base_uri": "https://localhost:8080/",
          "height": 644
        },
        "id": "pF_gjYFTOiL0",
        "outputId": "b1fe8029-fa59-435b-9e3d-3f09237d4e59"
      },
      "outputs": [
        {
          "output_type": "execute_result",
          "data": {
            "image/png": "[encoded data removed]",
            "text/plain": [
              "<IPython.core.display.Image object>"
            ]
          },
          "metadata": {},
          "execution_count": 31
        }
      ],
      "source": [
        "from tensorflow.keras.utils import plot_model\n",
        "plot_model(model, show_shapes = True)"
      ]
    },
    {
      "cell_type": "code",
      "execution_count": null,
      "metadata": {
        "id": "yET3XQYSOiq_"
      },
      "outputs": [],
      "source": [
        "from ann_visualizer.visualize import ann_viz\n",
        "ann_viz(model, title = \"CLV NN Visualisation\", filename = \"folder/nn_model.gz\")"
      ]
    }
  ],
  "metadata": {
    "colab": {
      "provenance": [],
      "include_colab_link": true
    },
    "kernelspec": {
      "display_name": "Python 3",
      "name": "python3"
    },
    "language_info": {
      "name": "python"
    }
  },
  "nbformat": 4,
  "nbformat_minor": 0
}